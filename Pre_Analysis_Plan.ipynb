{
  "nbformat": 4,
  "nbformat_minor": 0,
  "metadata": {
    "colab": {
      "provenance": [],
      "authorship_tag": "ABX9TyNSQEdaGQO690XOLbk908aU",
      "include_colab_link": true
    },
    "kernelspec": {
      "name": "python3",
      "display_name": "Python 3"
    },
    "language_info": {
      "name": "python"
    }
  },
  "cells": [
    {
      "cell_type": "markdown",
      "metadata": {
        "id": "view-in-github",
        "colab_type": "text"
      },
      "source": [
        "<a href=\"https://colab.research.google.com/github/JinMizar/ds3001_final_project/blob/main/Pre_Analysis_Plan.ipynb\" target=\"_parent\"><img src=\"https://colab.research.google.com/assets/colab-badge.svg\" alt=\"Open In Colab\"/></a>"
      ]
    },
    {
      "cell_type": "markdown",
      "source": [
        "# Pre-Analysis Plan\n",
        "## DS3001 Final Project\n",
        "\n",
        "*Team Members: Jinhong Zhao, Tong Zhou, Hanna Svenson*\n",
        "\n",
        "The pre-analysis plan will outline the procedure for exploring which chemical properties most influence the quality of Portuguese red wine based on our dataset. The investigation will center on the question: Which properties are most predictive of the quality of wine? Each observation within the dataset represents one sample of Portuguese red wine, and includes 11 wine properties and a quality rating from 1-10 based on a sensory evaluation. With these variables, this project aims to predict wine quality, providing valuable insights to consumers looking to make better purchasing decisions and to wine producers looking to improve their production processes.\n",
        "\n",
        "\n",
        "\n",
        "The analysis will be a supervised learning classification task. Although wine quality is rated on a scale of 1-10, an examination of the dataset shows that the assigned ranks for samples only range from 3 to 8, with significantly more wines rated in the mid-range values of 5 and 6. To address this imbalance, we will create custom categories for the wine rankings: low (rank 3-4), medium (rank 5-6), and high (rank 7-8). This approach will provide more model stability, as fewer classes will provide more samples per class, making the model less sensitive to small variations within each category. This interpretation will still align well with the needs of producers and consumers, who would likely be interested in the general quality (low, medium, high) rather than specific distinctions between close ratings.\n",
        "\n",
        "\n",
        "\n",
        "\n",
        "\n"
      ],
      "metadata": {
        "id": "1D3TjEYinQ3f"
      }
    },
    {
      "cell_type": "code",
      "source": [
        "## make histogram to show how scores are distributed?\n",
        "## then create the low-med-high groups and show the new histogram?\n",
        "\n",
        "\n"
      ],
      "metadata": {
        "id": "9xJFy4qhnoTB"
      },
      "execution_count": null,
      "outputs": []
    },
    {
      "cell_type": "markdown",
      "source": [
        "The success of the analysis will be determined by the F1 score and a confusion matrix. The F1 score will provide a balanced view of the model's performance across classes, especially in distinguishing the rarer categories of high- and low-quality wines. The confusion matrix will help identify specific misclassification patterns, such as whether low-quality wines are mistakenly classified as high-quality or if wines tend to be misclassified into their neighbor quality group. This will offer deeper insight into the model’s ability to differentiate among quality levels accurately.\n",
        "\n",
        "\n",
        "We anticipate several challenges in the analysis:\n",
        "1. The imbalanced distribution of wine quality ratings, which could lead to the model over-predicting medium-quality wines if not addressed.\n",
        "2. Multicollinearity among the wine properties, which could interfere with model performance.\n",
        "3. Small sample sizes, which could reduce model stability."
      ],
      "metadata": {
        "id": "XFYFjI1Pnmwk"
      }
    },
    {
      "cell_type": "code",
      "source": [
        "## add visuals to show multicolinearity here? eg. a heat map, or show existing releationships between the wine attributes\n",
        "\n",
        "\n"
      ],
      "metadata": {
        "id": "zJ-sBwJ-nxC_"
      },
      "execution_count": null,
      "outputs": []
    },
    {
      "cell_type": "markdown",
      "source": [
        "NOT DONE -->\n",
        "\n",
        "To address the listed issues, the following approaches will be taken:\n",
        "1. Consider the quality of wines when sampling for our training dataset. we want sufficient observations from each category for the model to learn from, so it is not too biased toward the majority class.\n",
        "\n",
        "any other ideas?\n",
        "\n",
        "2. Use Lasso or PCA?\n",
        "\n",
        "3. not sure if anything can compensate for this?\n"
      ],
      "metadata": {
        "id": "qB_rQGMhnyft"
      }
    },
    {
      "cell_type": "code",
      "source": [
        "## initial coding?\n",
        "\n"
      ],
      "metadata": {
        "id": "lRxPnzJMoTP5"
      },
      "execution_count": null,
      "outputs": []
    },
    {
      "cell_type": "markdown",
      "source": [
        "If the approach fails to accurately predict wine quality, several insights could still be gained. First, it may indicate that the chosen chemical properties do not have a strong predictive relationship with wine quality ratings. This could encourage future exploration with non-chemical properties, such as grape variety, vineyard location, winemaking techniques, or aging process. Additionally, failure could reveal limitations due to the dataset's size or imbalance, highlighting the need for a larger and more representative dataset for future analyses."
      ],
      "metadata": {
        "id": "E76E3KktoV4B"
      }
    }
  ]
}