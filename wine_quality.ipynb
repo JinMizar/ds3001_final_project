{
  "nbformat": 4,
  "nbformat_minor": 0,
  "metadata": {
    "colab": {
      "provenance": [],
      "authorship_tag": "ABX9TyNyO68opoyZeZtpnoIe1Eal",
      "include_colab_link": true
    },
    "kernelspec": {
      "name": "python3",
      "display_name": "Python 3"
    },
    "language_info": {
      "name": "python"
    }
  },
  "cells": [
    {
      "cell_type": "markdown",
      "metadata": {
        "id": "view-in-github",
        "colab_type": "text"
      },
      "source": [
        "<a href=\"https://colab.research.google.com/github/JinMizar/ds3001_final_project/blob/main/wine_quality.ipynb\" target=\"_parent\"><img src=\"https://colab.research.google.com/assets/colab-badge.svg\" alt=\"Open In Colab\"/></a>"
      ]
    },
    {
      "cell_type": "markdown",
      "source": [
        "# DS3001 Final Project\n",
        "## Wine Quality Dataset\n",
        "\n",
        "\n",
        "\n",
        "\n",
        "*Team Member: Jinhong Zhao, Tong Zhou, Hanna Svenson*\n"
      ],
      "metadata": {
        "id": "f5sfzJF_1fTs"
      }
    },
    {
      "cell_type": "code",
      "execution_count": null,
      "metadata": {
        "id": "14IiCSQEv04Q"
      },
      "outputs": [],
      "source": [
        "! git clone https://github.com/JinMizar/ds3001_final_project.git"
      ]
    }
  ]
}
